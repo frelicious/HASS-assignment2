{
 "cells": [
  {
   "cell_type": "markdown",
   "metadata": {},
   "source": [
    "**Cleaning of victims CSV**"
   ]
  },
  {
   "cell_type": "markdown",
   "metadata": {},
   "source": [
    "Import pandas library and read csv file. To better understand the dataset, I would like to see the column names so I used the 'columns' function to view all the column names. "
   ]
  },
  {
   "cell_type": "code",
   "execution_count": 2,
   "metadata": {},
   "outputs": [],
   "source": [
    "import pandas as pd"
   ]
  },
  {
   "cell_type": "code",
   "execution_count": 3,
   "metadata": {},
   "outputs": [
    {
     "data": {
      "text/plain": [
       "Index(['year', 'level_1', 'level_2', 'value'], dtype='object')"
      ]
     },
     "execution_count": 3,
     "metadata": {},
     "output_type": "execute_result"
    }
   ],
   "source": [
    "victims = pd.read_csv('victims-of-selected-major-offences-by-age-group.csv')\n",
    "victims.columns"
   ]
  },
  {
   "cell_type": "markdown",
   "metadata": {},
   "source": [
    "To better understand the dataset, I would like to find all the unique values of level_2 and level_1."
   ]
  },
  {
   "cell_type": "code",
   "execution_count": 4,
   "metadata": {},
   "outputs": [
    {
     "data": {
      "text/plain": [
       "array(['Above 21 Years Old', '21 Years Old And Below',\n",
       "       'Youths (7 To 19 Years Old)', 'Unknown Age',\n",
       "       'Unknown Victims Of Cheating & Related'], dtype=object)"
      ]
     },
     "execution_count": 4,
     "metadata": {},
     "output_type": "execute_result"
    }
   ],
   "source": [
    "victims.loc[:, 'level_2'].unique()"
   ]
  },
  {
   "cell_type": "code",
   "execution_count": 5,
   "metadata": {},
   "outputs": [
    {
     "data": {
      "text/plain": [
       "array(['Total Victims Of Murder', 'Male Victims Of Murder',\n",
       "       'Female Victims Of Murder', 'Total Victims Of Rape',\n",
       "       'Male Victims Of Rape', 'Female Victims Of Rape',\n",
       "       'Total Victims Of Outrage Of Modesty',\n",
       "       'Male Victims Of Outrage Of Modesty',\n",
       "       'Female Victims Of Outrage Of Modesty', 'Total Victims Of Robbery',\n",
       "       'Male Victims Of Robbery', 'Female Victims Of Robbery',\n",
       "       'Total Victims Of Snatch Theft', 'Male Victims Of Snatch Theft',\n",
       "       'Female Victims Of Snatch Theft', 'Total Victims Of Rioting',\n",
       "       'Male Victims Of Rioting', 'Female Victims Of Rioting',\n",
       "       'Total Victims Of Serious Hurt', 'Male Victims Of Serious Hurt',\n",
       "       'Female Victims Of Serious Hurt',\n",
       "       'Total Victims Of Cheating & Related',\n",
       "       'Male Victims Of Cheating & Related',\n",
       "       'Female Victims Of Cheating & Related'], dtype=object)"
      ]
     },
     "execution_count": 5,
     "metadata": {},
     "output_type": "execute_result"
    }
   ],
   "source": [
    "victims.loc[:,'level_1'].unique()"
   ]
  },
  {
   "cell_type": "markdown",
   "metadata": {},
   "source": [
    "From the unique rows value output, it is obvious that 'level_1' refers to type of crimes and 'level_2' refers to the age group of the victims. The column names 'level_1' and 'level_2' might be confusing for the person viewing the dataset, and it doesn't accurately describe what is contained in the columns. Therefore, I have decided to rename the column names to properly explain what each column contains."
   ]
  },
  {
   "cell_type": "code",
   "execution_count": 6,
   "metadata": {},
   "outputs": [
    {
     "data": {
      "text/plain": [
       "Index(['year', 'Type_of_Crime', 'Age_Group', 'value'], dtype='object')"
      ]
     },
     "execution_count": 6,
     "metadata": {},
     "output_type": "execute_result"
    }
   ],
   "source": [
    "victims = victims.rename(columns={'level_1':'Type_of_Crime','level_2':'Age_Group'})\n",
    "victims.columns"
   ]
  },
  {
   "cell_type": "markdown",
   "metadata": {},
   "source": [
    "After identifying the columns and the unique values in each row, I have decided to only keep the rows with total victims. Therefore, I am dropping all other rows that I would not use. I am dropping all other rows that do not contain 'total victims' in the 'type_of_crime' column. In the age group column, there also exists the 'unknown victims of cheating & related' row, which does not make sense. I have also decided to drop the row. \n",
    "To verify whether the rows that I do not need have been dropped, I decided to verify it with 'head' and 'unique'."
   ]
  },
  {
   "cell_type": "code",
   "execution_count": 7,
   "metadata": {},
   "outputs": [],
   "source": [
    "victims_total = victims[victims.Type_of_Crime.str.contains(\"Total Victims\")]\n",
    "victims_total = victims_total[~victims_total.Age_Group.str.contains(\"Unknown Victims Of Cheating & Related\")]"
   ]
  },
  {
   "cell_type": "code",
   "execution_count": 8,
   "metadata": {},
   "outputs": [
    {
     "data": {
      "text/plain": [
       "array(['Above 21 Years Old', '21 Years Old And Below',\n",
       "       'Youths (7 To 19 Years Old)', 'Unknown Age'], dtype=object)"
      ]
     },
     "execution_count": 8,
     "metadata": {},
     "output_type": "execute_result"
    }
   ],
   "source": [
    "victims_total.head()\n",
    "victims_total.loc[:,'Age_Group'].unique()"
   ]
  },
  {
   "cell_type": "markdown",
   "metadata": {},
   "source": [
    "After cleaning the dataset to include only 'total victims' of each crime, to identify trends in types of crimes by year, I have decided to group together the year and sum up the different types of crime committed in the year. Hence, I decided to group the victims_total dataset by year and type of crime. "
   ]
  },
  {
   "cell_type": "code",
   "execution_count": 17,
   "metadata": {},
   "outputs": [],
   "source": [
    "victims_total = victims_total.groupby(['year','Type_of_Crime']).sum()"
   ]
  },
  {
   "cell_type": "markdown",
   "metadata": {},
   "source": [
    "Since the dataset is cleaned, I can begin computing the statistics. The statistics shown would be the total crime commited from all the years. "
   ]
  },
  {
   "cell_type": "code",
   "execution_count": 10,
   "metadata": {},
   "outputs": [
    {
     "data": {
      "text/plain": [
       "count     288.000000\n",
       "mean      293.697917\n",
       "std       945.048023\n",
       "min         0.000000\n",
       "25%         2.000000\n",
       "50%        50.000000\n",
       "75%       178.750000\n",
       "max      9489.000000\n",
       "Name: value, dtype: float64"
      ]
     },
     "execution_count": 10,
     "metadata": {},
     "output_type": "execute_result"
    }
   ],
   "source": [
    "victims_total['value'].describe()"
   ]
  },
  {
   "cell_type": "markdown",
   "metadata": {},
   "source": [
    "However, since I need a more extensive summary, I would have to employ the use of pivot tables. The pivot table provides a table of statistics that summarizes the data of a more extensive table. This summary might include sums, averages, or other statistics, which the pivot table groups together in a meaningful way. It allows us to transform columns into rows and rows into columns. It allows grouping by any field (column), and using advanced calculations on them. For me, since I want to calculate the average crimes commited for each type of crime per year, the pivot table is useful. I also decided to round the values. "
   ]
  },
  {
   "cell_type": "code",
   "execution_count": 11,
   "metadata": {},
   "outputs": [],
   "source": [
    "victims_pivot = pd.pivot_table(victims_total, values='value', index=['Type_of_Crime'],columns=['year'],aggfunc='mean').round()"
   ]
  },
  {
   "cell_type": "markdown",
   "metadata": {},
   "source": [
    "I would like to reflect the DataFrame over its main diagonal by writing rows as columns to properly visualize the data."
   ]
  },
  {
   "cell_type": "code",
   "execution_count": 15,
   "metadata": {},
   "outputs": [],
   "source": [
    "victims_pivot = victims_pivot.transpose()"
   ]
  },
  {
   "cell_type": "markdown",
   "metadata": {},
   "source": [
    "As the data from the total victims and pivot table is useful for another project, I have decided to export the dataframe to csv file."
   ]
  },
  {
   "cell_type": "code",
   "execution_count": 19,
   "metadata": {},
   "outputs": [],
   "source": [
    "victims_pivot.to_csv('victims_pivot.csv')\n",
    "victims_total.to_csv('total_victims.csv')"
   ]
  }
 ],
 "metadata": {
  "anaconda-cloud": {},
  "kernelspec": {
   "display_name": "Python 3",
   "language": "python",
   "name": "python3"
  },
  "language_info": {
   "codemirror_mode": {
    "name": "ipython",
    "version": 3
   },
   "file_extension": ".py",
   "mimetype": "text/x-python",
   "name": "python",
   "nbconvert_exporter": "python",
   "pygments_lexer": "ipython3",
   "version": "3.7.3"
  }
 },
 "nbformat": 4,
 "nbformat_minor": 2
}
